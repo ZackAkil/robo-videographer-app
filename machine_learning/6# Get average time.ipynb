{
 "cells": [
  {
   "cell_type": "code",
   "execution_count": 45,
   "metadata": {},
   "outputs": [],
   "source": [
    "%matplotlib inline\n",
    "import pandas as pd\n",
    "import numpy as np"
   ]
  },
  {
   "cell_type": "code",
   "execution_count": 2,
   "metadata": {},
   "outputs": [],
   "source": [
    "data = pd.DataFrame.from_csv('data/labels/rugby_image_labels_2.csv')"
   ]
  },
  {
   "cell_type": "code",
   "execution_count": 18,
   "metadata": {},
   "outputs": [],
   "source": [
    "deltas = []\n",
    "prev_value = 0\n",
    "for key, value in data.iterrows():\n",
    "    \n",
    "    num = float( key[:-4])\n",
    "    deltas.append( int((num - prev_value)*1000) )\n",
    "    prev_value = num"
   ]
  },
  {
   "cell_type": "code",
   "execution_count": 63,
   "metadata": {},
   "outputs": [],
   "source": [
    "diffs = pd.Series(deltas)"
   ]
  },
  {
   "cell_type": "code",
   "execution_count": 64,
   "metadata": {},
   "outputs": [
    {
     "data": {
      "text/plain": [
       "690              1676\n",
       "680               593\n",
       "689               526\n",
       "679               234\n",
       "700                40\n",
       "699                 9\n",
       "660                 6\n",
       "659                 4\n",
       "720                 3\n",
       "670                 3\n",
       "710                 3\n",
       "940                 2\n",
       "730                 2\n",
       "740                 1\n",
       "101159              1\n",
       "750                 1\n",
       "1569                1\n",
       "650                 1\n",
       "620                 1\n",
       "830                 1\n",
       "1330                1\n",
       "950                 1\n",
       "1200                1\n",
       "1429                1\n",
       "1420                1\n",
       "539                 1\n",
       "639                 1\n",
       "709                 1\n",
       "759                 1\n",
       "1491257473620       1\n",
       "799                 1\n",
       "849                 1\n",
       "889                 1\n",
       "1119                1\n",
       "1299                1\n",
       "1419                1\n",
       "2289                1\n",
       "dtype: int64"
      ]
     },
     "execution_count": 64,
     "metadata": {},
     "output_type": "execute_result"
    }
   ],
   "source": [
    "diffs.value_counts()"
   ]
  },
  {
   "cell_type": "code",
   "execution_count": 66,
   "metadata": {},
   "outputs": [
    {
     "data": {
      "text/plain": [
       "<matplotlib.axes._subplots.AxesSubplot at 0x10febadd8>"
      ]
     },
     "execution_count": 66,
     "metadata": {},
     "output_type": "execute_result"
    },
    {
     "data": {
      "image/png": "[encoded data removed]",
      "text/plain": [
       "<matplotlib.figure.Figure at 0x1106dbb70>"
      ]
     },
     "metadata": {},
     "output_type": "display_data"
    }
   ],
   "source": [
    "# plot hist of top 6 most common values\n",
    "diffs[np.isin(diffs, diffs.value_counts()[:6].keys() )].hist()"
   ]
  },
  {
   "cell_type": "code",
   "execution_count": null,
   "metadata": {},
   "outputs": [],
   "source": []
  }
 ],
 "metadata": {
  "kernelspec": {
   "display_name": "Python 3",
   "language": "python",
   "name": "python3"
  },
  "language_info": {
   "codemirror_mode": {
    "name": "ipython",
    "version": 3
   },
   "file_extension": ".py",
   "mimetype": "text/x-python",
   "name": "python",
   "nbconvert_exporter": "python",
   "pygments_lexer": "ipython3",
   "version": "3.5.2"
  }
 },
 "nbformat": 4,
 "nbformat_minor": 1
}
