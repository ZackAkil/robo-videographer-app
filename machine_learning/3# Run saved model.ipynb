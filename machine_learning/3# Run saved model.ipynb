{
 "cells": [
  {
   "cell_type": "markdown",
   "metadata": {},
   "source": [
    "# Load saved model"
   ]
  },
  {
   "cell_type": "code",
   "execution_count": 1,
   "metadata": {},
   "outputs": [
    {
     "name": "stderr",
     "output_type": "stream",
     "text": [
      "Using TensorFlow backend.\n"
     ]
    }
   ],
   "source": [
    "from keras.models import load_model\n",
    "import numpy as np"
   ]
  },
  {
   "cell_type": "code",
   "execution_count": 2,
   "metadata": {},
   "outputs": [],
   "source": [
    "model = load_model('cnn_delta_80_640.h5')"
   ]
  },
  {
   "cell_type": "code",
   "execution_count": 3,
   "metadata": {},
   "outputs": [],
   "source": [
    "data = np.load('test_delta_data.npy')"
   ]
  },
  {
   "cell_type": "code",
   "execution_count": 7,
   "metadata": {},
   "outputs": [
    {
     "data": {
      "text/plain": [
       "(200, 80, 640, 1)"
      ]
     },
     "execution_count": 7,
     "metadata": {},
     "output_type": "execute_result"
    }
   ],
   "source": [
    "data.shape"
   ]
  },
  {
   "cell_type": "code",
   "execution_count": 8,
   "metadata": {},
   "outputs": [
    {
     "name": "stdout",
     "output_type": "stream",
     "text": [
      "372.745800316\n",
      "899.832209662\n",
      "406.149265751\n",
      "737.379130699\n",
      "249.187574193\n",
      "193.182421505\n",
      "172.206661142\n",
      "384.40218436\n",
      "326.344386555\n",
      "325.30083555\n",
      "247.108249344\n",
      "443.267757379\n",
      "427.962912731\n",
      "357.120096996\n",
      "213.058037966\n",
      "180.096806303\n",
      "572.806380622\n",
      "253.696592614\n",
      "552.794025138\n",
      "323.200979494\n",
      "216.70138751\n",
      "663.062980533\n",
      "130.637103267\n",
      "195.156332664\n",
      "174.787491694\n",
      "225.896281615\n",
      "224.877461135\n",
      "432.976131\n",
      "663.22706145\n",
      "352.062317587\n",
      "199.037814148\n",
      "1019.08954258\n",
      "505.217839099\n",
      "349.985861689\n",
      "360.443026423\n",
      "184.237416737\n",
      "241.157435864\n",
      "310.545878172\n",
      "258.690137088\n",
      "268.301435128\n",
      "734.882404521\n",
      "951.499515295\n",
      "333.062084273\n",
      "1049.28376341\n",
      "318.532687433\n",
      "206.531135954\n",
      "258.503571205\n",
      "172.102062717\n",
      "193.413822718\n",
      "308.200920828\n",
      "329.212517537\n",
      "892.269705229\n",
      "0.0\n",
      "553.652778946\n",
      "935.991162471\n",
      "972.405143656\n",
      "255.080542795\n",
      "375.867953949\n",
      "384.28015025\n",
      "156.663016967\n",
      "529.86786823\n",
      "286.381856278\n",
      "273.426657937\n",
      "180.082254745\n",
      "153.690671429\n",
      "573.468262888\n",
      "147.881223045\n",
      "163.02950599\n",
      "598.786684833\n",
      "199.533261172\n",
      "252.295344718\n",
      "697.816919692\n",
      "486.720634393\n",
      "207.707049668\n",
      "354.208581127\n",
      "176.84933202\n",
      "410.321269199\n",
      "189.628180735\n",
      "332.682946615\n",
      "0.0\n",
      "147.327260233\n",
      "281.446185194\n",
      "157.463548288\n",
      "182.577370703\n",
      "541.16928944\n",
      "424.68100509\n",
      "500.944298126\n",
      "175.266878337\n",
      "344.949451007\n",
      "246.936272517\n",
      "405.993375689\n",
      "372.695114568\n",
      "652.721290745\n",
      "154.080416471\n",
      "635.928335749\n",
      "235.855428346\n",
      "232.490465544\n",
      "803.672240146\n",
      "368.486830488\n",
      "319.780253135\n"
     ]
    }
   ],
   "source": [
    "# sum check to validate data ranges captured on android are reasonable\n",
    "for i in range(100):\n",
    "    print(data[i].sum())"
   ]
  },
  {
   "cell_type": "code",
   "execution_count": 13,
   "metadata": {},
   "outputs": [
    {
     "data": {
      "text/plain": [
       "(1, 80, 640, 1)"
      ]
     },
     "execution_count": 13,
     "metadata": {},
     "output_type": "execute_result"
    }
   ],
   "source": [
    "blank = np.zeros([1, 80, 640, 1])\n",
    "blank.shape"
   ]
  },
  {
   "cell_type": "code",
   "execution_count": 14,
   "metadata": {},
   "outputs": [
    {
     "data": {
      "text/plain": [
       "array([[ 0.33621463]], dtype=float32)"
      ]
     },
     "execution_count": 14,
     "metadata": {},
     "output_type": "execute_result"
    }
   ],
   "source": [
    "model.predict(blank)"
   ]
  },
  {
   "cell_type": "code",
   "execution_count": 9,
   "metadata": {},
   "outputs": [
    {
     "data": {
      "text/plain": [
       "array([[ 0.38704374],\n",
       "       [ 0.69471163],\n",
       "       [ 0.33988512],\n",
       "       [ 0.81504452],\n",
       "       [ 0.87772077],\n",
       "       [ 0.79350603],\n",
       "       [ 0.18234229],\n",
       "       [ 0.6766603 ],\n",
       "       [ 0.52408177],\n",
       "       [ 0.95730448]], dtype=float32)"
      ]
     },
     "execution_count": 9,
     "metadata": {},
     "output_type": "execute_result"
    }
   ],
   "source": [
    "model.predict(data[:10])"
   ]
  },
  {
   "cell_type": "code",
   "execution_count": 6,
   "metadata": {},
   "outputs": [],
   "source": [
    "from keras import backend as K\n",
    "\n",
    "import tensorflow as tf\n",
    "from tensorflow.python.tools import freeze_graph\n",
    "from tensorflow.python.tools import optimize_for_inference_lib"
   ]
  },
  {
   "cell_type": "code",
   "execution_count": 7,
   "metadata": {},
   "outputs": [],
   "source": [
    "def export_model(saver, model, MODEL_NAME, input_node_names = None, output_node_name = None):\n",
    "    \n",
    "    if input_node_names is None:\n",
    "        input_node_names = [x.op.name for x in model.inputs]\n",
    "    if output_node_name is None:\n",
    "        output_node_name = [x.op.name for x in model.outputs][0]\n",
    "        \n",
    "    print(input_node_names)\n",
    "    print(output_node_name)\n",
    "    \n",
    "    tf.train.write_graph(K.get_session().graph_def, 'out', \\\n",
    "        MODEL_NAME + '_graph.pbtxt')\n",
    "\n",
    "    saver.save(K.get_session(), 'out/' + MODEL_NAME + '.chkp')\n",
    "\n",
    "    freeze_graph.freeze_graph('out/' + MODEL_NAME + '_graph.pbtxt', None, \\\n",
    "        False, 'out/' + MODEL_NAME + '.chkp', output_node_name, \\\n",
    "        \"save/restore_all\", \"save/Const:0\", \\\n",
    "        'out/frozen_' + MODEL_NAME + '.pb', True, \"\")\n",
    "\n",
    "    input_graph_def = tf.GraphDef()\n",
    "    with tf.gfile.Open('out/frozen_' + MODEL_NAME + '.pb', \"rb\") as f:\n",
    "        input_graph_def.ParseFromString(f.read())\n",
    "\n",
    "    output_graph_def = optimize_for_inference_lib.optimize_for_inference(\n",
    "            input_graph_def, input_node_names, [output_node_name],\n",
    "            tf.float32.as_datatype_enum)\n",
    "\n",
    "    with tf.gfile.FastGFile('out/opt_' + MODEL_NAME + '.pb', \"wb\") as f:\n",
    "        f.write(output_graph_def.SerializeToString())\n",
    "\n",
    "    print(\"graph saved!\")"
   ]
  },
  {
   "cell_type": "markdown",
   "metadata": {},
   "source": [
    "save the model like the following:\n",
    "```\n",
    "export_model(tf.train.Saver(), model, [\"conv2d_1_input\"], \"dense_2/Softmax\")\n",
    "```"
   ]
  },
  {
   "cell_type": "code",
   "execution_count": 8,
   "metadata": {},
   "outputs": [],
   "source": [
    "# K.set_learning_phase(1)"
   ]
  },
  {
   "cell_type": "code",
   "execution_count": 10,
   "metadata": {},
   "outputs": [
    {
     "name": "stdout",
     "output_type": "stream",
     "text": [
      "['input_input']\n",
      "output/BiasAdd\n",
      "INFO:tensorflow:Froze 8 variables.\n",
      "Converted 8 variables to const ops.\n",
      "39 ops in the final graph.\n",
      "graph saved!\n"
     ]
    }
   ],
   "source": [
    "export_model(tf.train.Saver(), model, 'cnn_delta_80_640_graph')"
   ]
  },
  {
   "cell_type": "code",
   "execution_count": 11,
   "metadata": {},
   "outputs": [
    {
     "data": {
      "text/plain": [
       "12741921"
      ]
     },
     "execution_count": 11,
     "metadata": {},
     "output_type": "execute_result"
    }
   ],
   "source": [
    "model.count_params()"
   ]
  },
  {
   "cell_type": "code",
   "execution_count": null,
   "metadata": {},
   "outputs": [],
   "source": []
  }
 ],
 "metadata": {
  "kernelspec": {
   "display_name": "Python 3",
   "language": "python",
   "name": "python3"
  },
  "language_info": {
   "codemirror_mode": {
    "name": "ipython",
    "version": 3
   },
   "file_extension": ".py",
   "mimetype": "text/x-python",
   "name": "python",
   "nbconvert_exporter": "python",
   "pygments_lexer": "ipython3",
   "version": "3.5.2"
  }
 },
 "nbformat": 4,
 "nbformat_minor": 1
}
