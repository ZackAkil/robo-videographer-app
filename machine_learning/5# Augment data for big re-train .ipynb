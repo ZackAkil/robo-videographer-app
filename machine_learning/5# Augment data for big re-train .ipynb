{
 "cells": [
  {
   "cell_type": "code",
   "execution_count": 126,
   "metadata": {},
   "outputs": [],
   "source": [
    "%matplotlib inline\n",
    "import numpy as np\n",
    "import pandas as pd\n",
    "\n",
    "from scipy import misc\n",
    "import matplotlib.pyplot as plt\n",
    "from skimage.transform import resize\n",
    "\n",
    "from sklearn.model_selection import train_test_split\n",
    "\n",
    "from keras.models import Sequential\n",
    "from keras.layers import Dense, Activation, Conv2D, MaxPooling2D, Dropout, Flatten, ConvLSTM2D, BatchNormalization\n",
    "from keras import optimizers"
   ]
  },
  {
   "cell_type": "code",
   "execution_count": 12,
   "metadata": {},
   "outputs": [
    {
     "data": {
      "text/html": [
       "<div>\n",
       "<table border=\"1\" class=\"dataframe\">\n",
       "  <thead>\n",
       "    <tr style=\"text-align: right;\">\n",
       "      <th></th>\n",
       "      <th>y</th>\n",
       "    </tr>\n",
       "    <tr>\n",
       "      <th>file_name</th>\n",
       "      <th></th>\n",
       "    </tr>\n",
       "  </thead>\n",
       "  <tbody>\n",
       "    <tr>\n",
       "      <th>1491257473.62.jpg</th>\n",
       "      <td>327.0</td>\n",
       "    </tr>\n",
       "    <tr>\n",
       "      <th>1491257474.29.jpg</th>\n",
       "      <td>336.0</td>\n",
       "    </tr>\n",
       "    <tr>\n",
       "      <th>1491257474.83.jpg</th>\n",
       "      <td>367.0</td>\n",
       "    </tr>\n",
       "    <tr>\n",
       "      <th>1491257475.45.jpg</th>\n",
       "      <td>392.0</td>\n",
       "    </tr>\n",
       "    <tr>\n",
       "      <th>1491257476.09.jpg</th>\n",
       "      <td>401.0</td>\n",
       "    </tr>\n",
       "  </tbody>\n",
       "</table>\n",
       "</div>"
      ],
      "text/plain": [
       "                       y\n",
       "file_name               \n",
       "1491257473.62.jpg  327.0\n",
       "1491257474.29.jpg  336.0\n",
       "1491257474.83.jpg  367.0\n",
       "1491257475.45.jpg  392.0\n",
       "1491257476.09.jpg  401.0"
      ]
     },
     "execution_count": 12,
     "metadata": {},
     "output_type": "execute_result"
    }
   ],
   "source": [
    "IMAGE_PATH = 'data/images/capture/'\n",
    "\n",
    "data = pd.DataFrame.from_csv('data/labels/rugby_image_labels_2.csv')\n",
    "\n",
    "data.head()"
   ]
  },
  {
   "cell_type": "code",
   "execution_count": 13,
   "metadata": {},
   "outputs": [
    {
     "data": {
      "text/plain": [
       "(2828, 1)"
      ]
     },
     "execution_count": 13,
     "metadata": {},
     "output_type": "execute_result"
    }
   ],
   "source": [
    "data.dropna().shape"
   ]
  },
  {
   "cell_type": "code",
   "execution_count": 14,
   "metadata": {},
   "outputs": [
    {
     "data": {
      "text/plain": [
       "(480, 640)"
      ]
     },
     "execution_count": 14,
     "metadata": {},
     "output_type": "execute_result"
    }
   ],
   "source": [
    "test_img = misc.imread(IMAGE_PATH + data.iloc[0].name,flatten=True)\n",
    "\n",
    "test_img.shape"
   ]
  },
  {
   "cell_type": "code",
   "execution_count": 4,
   "metadata": {},
   "outputs": [
    {
     "data": {
      "image/png": "[encoded data removed]",
      "text/plain": [
       "<matplotlib.figure.Figure at 0x106a4a160>"
      ]
     },
     "metadata": {},
     "output_type": "display_data"
    }
   ],
   "source": [
    "plt.imshow(test_img[240:320])\n",
    "plt.show()"
   ]
  },
  {
   "cell_type": "code",
   "execution_count": 61,
   "metadata": {},
   "outputs": [],
   "source": [
    "resize_shape = (16,50)\n",
    "\n",
    "def my_image_resize(img):\n",
    "    return resize(image=(img[240:320]/(255/2))-1, output_shape=resize_shape)"
   ]
  },
  {
   "cell_type": "code",
   "execution_count": 62,
   "metadata": {},
   "outputs": [
    {
     "data": {
      "text/plain": [
       "(16, 50)"
      ]
     },
     "execution_count": 62,
     "metadata": {},
     "output_type": "execute_result"
    }
   ],
   "source": [
    "my_image_resize(test_img).shape"
   ]
  },
  {
   "cell_type": "code",
   "execution_count": 94,
   "metadata": {},
   "outputs": [],
   "source": [
    "get_rows = 2500\n",
    "# get sizes of image data \n",
    "m = data.shape[0]\n",
    "image_size = resize_shape#test_img.shape\n",
    "# total size of numpy volume\n",
    "data_size = [get_rows, *image_size]"
   ]
  },
  {
   "cell_type": "code",
   "execution_count": 95,
   "metadata": {},
   "outputs": [
    {
     "name": "stdout",
     "output_type": "stream",
     "text": [
      "0\n",
      "prev image is none\n",
      "0\n",
      "current image is none\n",
      "current image is none\n",
      "current image is none\n",
      "current image is none\n",
      "current image is none\n",
      "prev image is none\n",
      "current image is none\n",
      "current image is none\n",
      "current image is none\n",
      "current image is none\n",
      "current image is none\n",
      "current image is none\n",
      "prev image is none\n",
      "current image is none\n",
      "current image is none\n",
      "current image is none\n",
      "current image is none\n",
      "current image is none\n",
      "100\n",
      "prev image is none\n",
      "100\n",
      "200\n",
      "300\n",
      "400\n",
      "500\n",
      "600\n",
      "current image is none\n",
      "current image is none\n",
      "current image is none\n",
      "current image is none\n",
      "current image is none\n",
      "current image is none\n",
      "prev image is none\n",
      "current image is none\n",
      "current image is none\n",
      "current image is none\n",
      "current image is none\n",
      "prev image is none\n",
      "700\n",
      "current image is none\n",
      "current image is none\n",
      "current image is none\n",
      "current image is none\n",
      "current image is none\n",
      "current image is none\n",
      "current image is none\n",
      "current image is none\n",
      "current image is none\n",
      "prev image is none\n",
      "current image is none\n",
      "current image is none\n",
      "current image is none\n",
      "current image is none\n",
      "current image is none\n",
      "current image is none\n",
      "current image is none\n",
      "current image is none\n",
      "current image is none\n",
      "current image is none\n",
      "prev image is none\n",
      "current image is none\n",
      "current image is none\n",
      "prev image is none\n",
      "current image is none\n",
      "current image is none\n",
      "prev image is none\n",
      "800\n",
      "900\n",
      "1000\n",
      "current image is none\n",
      "current image is none\n",
      "current image is none\n",
      "current image is none\n",
      "current image is none\n",
      "current image is none\n",
      "current image is none\n",
      "current image is none\n",
      "current image is none\n",
      "current image is none\n",
      "current image is none\n",
      "current image is none\n",
      "prev image is none\n",
      "current image is none\n",
      "current image is none\n",
      "current image is none\n",
      "current image is none\n",
      "current image is none\n",
      "current image is none\n",
      "current image is none\n",
      "current image is none\n",
      "current image is none\n",
      "prev image is none\n",
      "current image is none\n",
      "current image is none\n",
      "current image is none\n",
      "current image is none\n",
      "current image is none\n",
      "current image is none\n",
      "current image is none\n",
      "current image is none\n",
      "current image is none\n",
      "prev image is none\n",
      "1100\n",
      "current image is none\n",
      "current image is none\n",
      "current image is none\n",
      "current image is none\n",
      "current image is none\n",
      "current image is none\n",
      "prev image is none\n",
      "current image is none\n",
      "current image is none\n",
      "current image is none\n",
      "current image is none\n",
      "current image is none\n",
      "current image is none\n",
      "current image is none\n",
      "current image is none\n",
      "current image is none\n",
      "current image is none\n",
      "current image is none\n",
      "current image is none\n",
      "current image is none\n",
      "current image is none\n",
      "current image is none\n",
      "current image is none\n",
      "current image is none\n",
      "current image is none\n",
      "current image is none\n",
      "current image is none\n",
      "current image is none\n",
      "current image is none\n",
      "current image is none\n",
      "current image is none\n",
      "prev image is none\n",
      "current image is none\n",
      "current image is none\n",
      "current image is none\n",
      "current image is none\n",
      "current image is none\n",
      "current image is none\n",
      "current image is none\n",
      "current image is none\n",
      "current image is none\n",
      "current image is none\n",
      "current image is none\n",
      "current image is none\n",
      "current image is none\n",
      "current image is none\n",
      "current image is none\n",
      "current image is none\n",
      "current image is none\n",
      "current image is none\n",
      "current image is none\n",
      "current image is none\n",
      "current image is none\n",
      "current image is none\n",
      "current image is none\n",
      "current image is none\n",
      "current image is none\n",
      "prev image is none\n",
      "1200\n",
      "1300\n",
      "1400\n",
      "current image is none\n",
      "current image is none\n",
      "current image is none\n",
      "current image is none\n",
      "current image is none\n",
      "current image is none\n",
      "current image is none\n",
      "current image is none\n",
      "current image is none\n",
      "current image is none\n",
      "current image is none\n",
      "current image is none\n",
      "current image is none\n",
      "current image is none\n",
      "current image is none\n",
      "current image is none\n",
      "current image is none\n",
      "current image is none\n",
      "current image is none\n",
      "current image is none\n",
      "current image is none\n",
      "current image is none\n",
      "current image is none\n",
      "current image is none\n",
      "current image is none\n",
      "current image is none\n",
      "current image is none\n",
      "current image is none\n",
      "current image is none\n",
      "current image is none\n",
      "prev image is none\n",
      "current image is none\n",
      "current image is none\n",
      "current image is none\n",
      "current image is none\n",
      "prev image is none\n",
      "current image is none\n",
      "current image is none\n",
      "current image is none\n",
      "current image is none\n",
      "current image is none\n",
      "current image is none\n",
      "current image is none\n",
      "current image is none\n",
      "current image is none\n",
      "current image is none\n",
      "current image is none\n",
      "current image is none\n",
      "current image is none\n",
      "current image is none\n",
      "current image is none\n",
      "current image is none\n",
      "current image is none\n",
      "current image is none\n",
      "current image is none\n",
      "current image is none\n",
      "current image is none\n",
      "current image is none\n",
      "current image is none\n",
      "current image is none\n",
      "current image is none\n",
      "current image is none\n",
      "current image is none\n",
      "current image is none\n",
      "current image is none\n",
      "current image is none\n",
      "current image is none\n",
      "current image is none\n",
      "current image is none\n",
      "current image is none\n",
      "current image is none\n",
      "current image is none\n",
      "current image is none\n",
      "current image is none\n",
      "current image is none\n",
      "current image is none\n",
      "current image is none\n",
      "current image is none\n",
      "current image is none\n",
      "current image is none\n",
      "current image is none\n",
      "current image is none\n",
      "current image is none\n",
      "current image is none\n",
      "current image is none\n",
      "current image is none\n",
      "current image is none\n",
      "current image is none\n",
      "current image is none\n",
      "current image is none\n",
      "current image is none\n",
      "current image is none\n",
      "current image is none\n",
      "current image is none\n",
      "current image is none\n",
      "current image is none\n",
      "current image is none\n",
      "current image is none\n",
      "current image is none\n",
      "current image is none\n",
      "current image is none\n",
      "current image is none\n",
      "prev image is none\n",
      "1500\n",
      "1600\n",
      "1700\n",
      "1800\n",
      "1900\n",
      "2000\n",
      "current image is none\n",
      "current image is none\n",
      "current image is none\n",
      "current image is none\n",
      "current image is none\n",
      "current image is none\n",
      "current image is none\n",
      "current image is none\n",
      "current image is none\n",
      "current image is none\n",
      "current image is none\n",
      "current image is none\n",
      "current image is none\n",
      "current image is none\n",
      "current image is none\n",
      "prev image is none\n",
      "2100\n",
      "2200\n",
      "current image is none\n",
      "current image is none\n",
      "current image is none\n",
      "current image is none\n",
      "current image is none\n",
      "current image is none\n",
      "current image is none\n",
      "current image is none\n",
      "current image is none\n",
      "current image is none\n",
      "current image is none\n",
      "current image is none\n",
      "current image is none\n",
      "current image is none\n",
      "current image is none\n",
      "current image is none\n",
      "current image is none\n",
      "current image is none\n",
      "current image is none\n",
      "current image is none\n",
      "current image is none\n",
      "current image is none\n",
      "current image is none\n",
      "current image is none\n",
      "current image is none\n",
      "current image is none\n",
      "current image is none\n",
      "current image is none\n",
      "current image is none\n",
      "current image is none\n",
      "current image is none\n",
      "current image is none\n",
      "current image is none\n",
      "current image is none\n",
      "current image is none\n",
      "current image is none\n",
      "prev image is none\n",
      "2300\n",
      "2400\n"
     ]
    }
   ],
   "source": [
    "# fill numpy volume with image data\n",
    "data_np = np.zeros(data_size)\n",
    "count = 0\n",
    "prev_img = None\n",
    "\n",
    "outputs = []\n",
    "\n",
    "for i, v in data.iterrows():\n",
    "    \n",
    "    if np.isnan(v['y']):\n",
    "        prev_img = None\n",
    "        print('current image is none')\n",
    "    else:\n",
    "        \n",
    "        if not(count % 100):\n",
    "            print(count)\n",
    "\n",
    "        new_img = my_image_resize(misc.imread(IMAGE_PATH + i, flatten=True))\n",
    "        if prev_img is not None:\n",
    "            delta_img = np.clip((prev_img - new_img),a_min=0, a_max=1)\n",
    "            data_np[count,:,:] =  delta_img\n",
    "            outputs.append(v['y'])\n",
    "            count += 1\n",
    "            if count >= get_rows:\n",
    "                break\n",
    "        else:\n",
    "            print('prev image is none')\n",
    "        prev_img = new_img\n",
    "        "
   ]
  },
  {
   "cell_type": "code",
   "execution_count": 96,
   "metadata": {},
   "outputs": [
    {
     "data": {
      "image/png": "[encoded data removed]",
      "text/plain": [
       "<matplotlib.figure.Figure at 0x120b0d320>"
      ]
     },
     "metadata": {},
     "output_type": "display_data"
    }
   ],
   "source": [
    "plt.plot( outputs)\n",
    "plt.show()"
   ]
  },
  {
   "cell_type": "markdown",
   "metadata": {},
   "source": [
    "## Stack images pair-wise"
   ]
  },
  {
   "cell_type": "code",
   "execution_count": 97,
   "metadata": {},
   "outputs": [
    {
     "data": {
      "text/plain": [
       "((2499, 2, 16, 50), (2499,))"
      ]
     },
     "execution_count": 97,
     "metadata": {},
     "output_type": "execute_result"
    }
   ],
   "source": [
    "chron_X = np.zeros([data_np.shape[0]-1, 2, data_np.shape[1], data_np.shape[2]])\n",
    "chron_y = np.array(outputs[1:])/640\n",
    "\n",
    "# stack the input frames in sequencial pairs\n",
    "chron_X[:,0,:,:] = data_np[:-1]\n",
    "chron_X[:,1,:,:] = data_np[1:]\n",
    "\n",
    "chron_X.shape, chron_y.shape"
   ]
  },
  {
   "cell_type": "code",
   "execution_count": 98,
   "metadata": {},
   "outputs": [
    {
     "data": {
      "image/png": "[encoded data removed]",
      "text/plain": [
       "<matplotlib.figure.Figure at 0x1210e4198>"
      ]
     },
     "metadata": {},
     "output_type": "display_data"
    },
    {
     "data": {
      "image/png": "[encoded data removed]",
      "text/plain": [
       "<matplotlib.figure.Figure at 0x120c91c18>"
      ]
     },
     "metadata": {},
     "output_type": "display_data"
    },
    {
     "data": {
      "image/png": "[encoded data removed]",
      "text/plain": [
       "<matplotlib.figure.Figure at 0x1113d7e80>"
      ]
     },
     "metadata": {},
     "output_type": "display_data"
    },
    {
     "name": "stdout",
     "output_type": "stream",
     "text": [
      "0.2515625\n"
     ]
    }
   ],
   "source": [
    "#  test some frames\n",
    "i = 185\n",
    "\n",
    "plt.imshow(chron_X[i,0,:,:])\n",
    "plt.show()\n",
    "\n",
    "plt.imshow(chron_X[i,1,:,:])\n",
    "plt.show()\n",
    "\n",
    "correct_output = np.zeros(chron_X[i,0,:,:].shape)\n",
    "correct_output[:,int(correct_output.shape[1]*chron_y[i])] = 1\n",
    "\n",
    "plt.imshow(correct_output)\n",
    "plt.show()\n",
    "\n",
    "print(chron_y[i])"
   ]
  },
  {
   "cell_type": "code",
   "execution_count": 99,
   "metadata": {},
   "outputs": [],
   "source": [
    "def add_1(arr, front=False):\n",
    "    if front:\n",
    "        return arr.reshape([1,*arr.shape])\n",
    "    \n",
    "    return arr.reshape([*arr.shape,1])"
   ]
  },
  {
   "cell_type": "code",
   "execution_count": 100,
   "metadata": {},
   "outputs": [],
   "source": [
    "X_train, X_test, y_train, y_test = train_test_split(\n",
    "    chron_X, chron_y, test_size=0.33, random_state=42)"
   ]
  },
  {
   "cell_type": "code",
   "execution_count": 134,
   "metadata": {},
   "outputs": [
    {
     "data": {
      "text/plain": [
       "(16, 50)"
      ]
     },
     "execution_count": 134,
     "metadata": {},
     "output_type": "execute_result"
    }
   ],
   "source": [
    "resize_shape"
   ]
  },
  {
   "cell_type": "markdown",
   "metadata": {},
   "source": [
    "# Define model"
   ]
  },
  {
   "cell_type": "code",
   "execution_count": 142,
   "metadata": {},
   "outputs": [],
   "source": [
    "chron_model = Sequential()\n",
    "\n",
    "chron_model.add(ConvLSTM2D(3, kernel_size=(3, 3), \n",
    "                 input_shape=(None ,*resize_shape, 1), name='input', return_sequences=True))\n",
    "chron_model.add(Dropout(0.5))\n",
    "# chron_model.add(BatchNormalization())\n",
    "chron_model.add(ConvLSTM2D(filters=3, kernel_size=(3, 3), padding='same', name='input2'))\n",
    "chron_model.add(Flatten())\n",
    "chron_model.add(Dense(128, activation='relu'))\n",
    "chron_model.add(Dropout(0.5))\n",
    "chron_model.add(Dense(64, activation='relu'))\n",
    "chron_model.add(Dense(32, activation='relu'))\n",
    "# chron_model.add(Dropout(0.1))\n",
    "chron_model.add(Dense(1, name='output'))"
   ]
  },
  {
   "cell_type": "code",
   "execution_count": 143,
   "metadata": {},
   "outputs": [
    {
     "name": "stdout",
     "output_type": "stream",
     "text": [
      "_________________________________________________________________\n",
      "Layer (type)                 Output Shape              Param #   \n",
      "=================================================================\n",
      "input (ConvLSTM2D)           (None, None, 14, 48, 3)   444       \n",
      "_________________________________________________________________\n",
      "dropout_21 (Dropout)         (None, None, 14, 48, 3)   0         \n",
      "_________________________________________________________________\n",
      "input2 (ConvLSTM2D)          (None, 14, 48, 3)         660       \n",
      "_________________________________________________________________\n",
      "flatten_12 (Flatten)         (None, 2016)              0         \n",
      "_________________________________________________________________\n",
      "dense_34 (Dense)             (None, 128)               258176    \n",
      "_________________________________________________________________\n",
      "dropout_22 (Dropout)         (None, 128)               0         \n",
      "_________________________________________________________________\n",
      "dense_35 (Dense)             (None, 64)                8256      \n",
      "_________________________________________________________________\n",
      "dense_36 (Dense)             (None, 32)                2080      \n",
      "_________________________________________________________________\n",
      "output (Dense)               (None, 1)                 33        \n",
      "=================================================================\n",
      "Total params: 269,649\n",
      "Trainable params: 269,649\n",
      "Non-trainable params: 0\n",
      "_________________________________________________________________\n"
     ]
    }
   ],
   "source": [
    "chron_model.summary()"
   ]
  },
  {
   "cell_type": "code",
   "execution_count": 144,
   "metadata": {},
   "outputs": [],
   "source": [
    "chron_model.compile(loss='mean_absolute_percentage_error', optimizer='rmsprop')"
   ]
  },
  {
   "cell_type": "code",
   "execution_count": 148,
   "metadata": {},
   "outputs": [
    {
     "name": "stdout",
     "output_type": "stream",
     "text": [
      "Train on 1674 samples, validate on 825 samples\n",
      "Epoch 1/20\n",
      "1674/1674 [==============================] - 8s 5ms/step - loss: 7.9512 - val_loss: 13.2928\n",
      "Epoch 2/20\n",
      "1674/1674 [==============================] - 8s 5ms/step - loss: 8.1371 - val_loss: 13.0700\n",
      "Epoch 3/20\n",
      "1674/1674 [==============================] - 8s 5ms/step - loss: 7.9819 - val_loss: 12.9439\n",
      "Epoch 4/20\n",
      "1674/1674 [==============================] - 9s 5ms/step - loss: 8.0819 - val_loss: 12.8614\n",
      "Epoch 5/20\n",
      "1674/1674 [==============================] - 9s 5ms/step - loss: 8.1356 - val_loss: 13.4450\n",
      "Epoch 6/20\n",
      "1674/1674 [==============================] - 9s 5ms/step - loss: 7.5405 - val_loss: 12.9792\n",
      "Epoch 7/20\n",
      "1674/1674 [==============================] - 9s 5ms/step - loss: 7.7462 - val_loss: 13.9352\n",
      "Epoch 8/20\n",
      "1674/1674 [==============================] - 9s 5ms/step - loss: 7.4860 - val_loss: 12.7756\n",
      "Epoch 9/20\n",
      "1674/1674 [==============================] - 9s 5ms/step - loss: 7.5647 - val_loss: 12.7145\n",
      "Epoch 10/20\n",
      "1674/1674 [==============================] - 9s 5ms/step - loss: 7.6608 - val_loss: 13.0238\n",
      "Epoch 11/20\n",
      "1674/1674 [==============================] - 9s 6ms/step - loss: 7.7317 - val_loss: 13.1071\n",
      "Epoch 12/20\n",
      "1674/1674 [==============================] - 9s 6ms/step - loss: 7.7384 - val_loss: 12.7635\n",
      "Epoch 13/20\n",
      "1674/1674 [==============================] - 10s 6ms/step - loss: 7.4709 - val_loss: 13.1039\n",
      "Epoch 14/20\n",
      "1674/1674 [==============================] - 9s 6ms/step - loss: 7.3188 - val_loss: 12.8378\n",
      "Epoch 15/20\n",
      "1674/1674 [==============================] - 9s 5ms/step - loss: 7.3775 - val_loss: 12.6966\n",
      "Epoch 16/20\n",
      "1674/1674 [==============================] - 10s 6ms/step - loss: 7.3228 - val_loss: 13.3012\n",
      "Epoch 17/20\n",
      "1674/1674 [==============================] - 9s 6ms/step - loss: 7.1661 - val_loss: 12.6896\n",
      "Epoch 18/20\n",
      "1674/1674 [==============================] - 9s 5ms/step - loss: 7.2772 - val_loss: 12.7836\n",
      "Epoch 19/20\n",
      "1674/1674 [==============================] - 9s 5ms/step - loss: 7.1222 - val_loss: 13.8032\n",
      "Epoch 20/20\n",
      "1674/1674 [==============================] - 9s 5ms/step - loss: 7.1453 - val_loss: 12.7954\n"
     ]
    },
    {
     "data": {
      "text/plain": [
       "<keras.callbacks.History at 0x13cffc550>"
      ]
     },
     "execution_count": 148,
     "metadata": {},
     "output_type": "execute_result"
    }
   ],
   "source": [
    "chron_model.fit(add_1(X_train), y_train,\n",
    "          batch_size=30,\n",
    "          epochs=20,\n",
    "          verbose=1,\n",
    "          validation_data=(add_1(X_test), add_1(y_test)))"
   ]
  },
  {
   "cell_type": "code",
   "execution_count": 192,
   "metadata": {},
   "outputs": [
    {
     "data": {
      "image/png": "[encoded data removed]",
      "text/plain": [
       "<matplotlib.figure.Figure at 0x1449fe0b8>"
      ]
     },
     "metadata": {},
     "output_type": "display_data"
    },
    {
     "data": {
      "image/png": "[encoded data removed]",
      "text/plain": [
       "<matplotlib.figure.Figure at 0x1446bbe80>"
      ]
     },
     "metadata": {},
     "output_type": "display_data"
    },
    {
     "data": {
      "image/png": "[encoded data removed]",
      "text/plain": [
       "<matplotlib.figure.Figure at 0x14481b550>"
      ]
     },
     "metadata": {},
     "output_type": "display_data"
    },
    {
     "data": {
      "image/png": "[encoded data removed]",
      "text/plain": [
       "<matplotlib.figure.Figure at 0x1444c3da0>"
      ]
     },
     "metadata": {},
     "output_type": "display_data"
    },
    {
     "name": "stdout",
     "output_type": "stream",
     "text": [
      "0.494087\n",
      "0.4734375\n"
     ]
    }
   ],
   "source": [
    "#  test some frames\n",
    "i = 600\n",
    "\n",
    "plt.imshow(chron_X[i,0,:,:])\n",
    "plt.show()\n",
    "\n",
    "plt.imshow(chron_X[i,1,:,:])\n",
    "plt.show()\n",
    "\n",
    "correct_output = np.zeros(chron_X[i,0,:,:].shape)\n",
    "correct_output[:,int(correct_output.shape[1]*chron_y[i])] = 1\n",
    "\n",
    "plt.imshow(correct_output)\n",
    "plt.show()\n",
    "\n",
    "\n",
    "prediction = chron_model.predict(add_1( add_1( chron_X[i]), True) )[0][0]\n",
    "\n",
    "predict_output = np.zeros(chron_X[i,0,:,:].shape)\n",
    "predict_output[:,int(correct_output.shape[1]*prediction)] = 1\n",
    "\n",
    "plt.imshow(predict_output)\n",
    "plt.show()\n",
    "\n",
    "print(prediction)\n",
    "print(chron_y[i])"
   ]
  },
  {
   "cell_type": "code",
   "execution_count": 182,
   "metadata": {},
   "outputs": [
    {
     "data": {
      "image/png": "[encoded data removed]",
      "text/plain": [
       "<matplotlib.figure.Figure at 0x140aa9828>"
      ]
     },
     "metadata": {},
     "output_type": "display_data"
    }
   ],
   "source": [
    "plt.plot(outputs[:500], c='g')\n",
    "plt.plot(chron_model.predict(add_1( chron_X[:500]) )*640, c='r')\n",
    "plt.show()"
   ]
  },
  {
   "cell_type": "code",
   "execution_count": 180,
   "metadata": {},
   "outputs": [
    {
     "data": {
      "text/plain": [
       "<matplotlib.axes._subplots.AxesSubplot at 0x13f377748>"
      ]
     },
     "execution_count": 180,
     "metadata": {},
     "output_type": "execute_result"
    },
    {
     "data": {
      "image/png": "[encoded data removed]",
      "text/plain": [
       "<matplotlib.figure.Figure at 0x13d304588>"
      ]
     },
     "metadata": {},
     "output_type": "display_data"
    }
   ],
   "source": [
    "residals = (chron_model.predict(add_1(X_train)) - add_1(y_train))[:,0]\n",
    "\n",
    "pd.Series(residals).hist()"
   ]
  },
  {
   "cell_type": "code",
   "execution_count": 179,
   "metadata": {},
   "outputs": [
    {
     "data": {
      "text/plain": [
       "<matplotlib.axes._subplots.AxesSubplot at 0x13d27f668>"
      ]
     },
     "execution_count": 179,
     "metadata": {},
     "output_type": "execute_result"
    },
    {
     "data": {
      "image/png": "[encoded data removed]",
      "text/plain": [
       "<matplotlib.figure.Figure at 0x13f377710>"
      ]
     },
     "metadata": {},
     "output_type": "display_data"
    }
   ],
   "source": [
    "residals = (chron_model.predict(add_1(X_test)) - add_1(y_test))[:,0]\n",
    "\n",
    "pd.Series(residals).hist()"
   ]
  },
  {
   "cell_type": "code",
   "execution_count": null,
   "metadata": {},
   "outputs": [],
   "source": []
  }
 ],
 "metadata": {
  "kernelspec": {
   "display_name": "Python 3",
   "language": "python",
   "name": "python3"
  },
  "language_info": {
   "codemirror_mode": {
    "name": "ipython",
    "version": 3
   },
   "file_extension": ".py",
   "mimetype": "text/x-python",
   "name": "python",
   "nbconvert_exporter": "python",
   "pygments_lexer": "ipython3",
   "version": "3.5.2"
  }
 },
 "nbformat": 4,
 "nbformat_minor": 1
}
